{
  "nbformat": 4,
  "nbformat_minor": 0,
  "metadata": {
    "colab": {
      "provenance": [],
      "authorship_tag": "ABX9TyNU6U50XhGH/zNMPvbyQ3rF",
      "include_colab_link": true
    },
    "kernelspec": {
      "name": "python3",
      "display_name": "Python 3"
    },
    "language_info": {
      "name": "python"
    }
  },
  "cells": [
    {
      "cell_type": "markdown",
      "metadata": {
        "id": "view-in-github",
        "colab_type": "text"
      },
      "source": [
        "<a href=\"https://colab.research.google.com/github/Kavin4240/Machine-Learning-Projects/blob/main/Pytorch.ipynb\" target=\"_parent\"><img src=\"https://colab.research.google.com/assets/colab-badge.svg\" alt=\"Open In Colab\"/></a>"
      ]
    },
    {
      "cell_type": "code",
      "execution_count": 21,
      "metadata": {
        "id": "moLfVrIKnXLl"
      },
      "outputs": [],
      "source": [
        "import torch\n",
        "import torchvision.datasets as datasets\n",
        "import torchvision.transforms as transforms\n",
        "import torch.nn as nn\n",
        "import torch.optim as optim"
      ]
    },
    {
      "cell_type": "code",
      "source": [
        "transform=transforms.Compose([transforms.ToTensor(),transforms.Normalize((0.1307),(0.3081),)])"
      ],
      "metadata": {
        "id": "RSoIkgzZnw63"
      },
      "execution_count": 22,
      "outputs": []
    },
    {
      "cell_type": "code",
      "source": [
        "train_dataset=datasets.MNIST('data',train=True,download=True,transform=transform)"
      ],
      "metadata": {
        "id": "2qphWaFno3bU"
      },
      "execution_count": 23,
      "outputs": []
    },
    {
      "cell_type": "code",
      "source": [
        "train_loader=torch.utils.data.DataLoader(train_dataset,batch_size=64,shuffle=True)"
      ],
      "metadata": {
        "id": "2vmZEYm-qaWH"
      },
      "execution_count": 24,
      "outputs": []
    },
    {
      "cell_type": "code",
      "source": [
        "import torch\n",
        "import torch.nn as nn\n",
        "\n",
        "class Neural(nn.Module):\n",
        "    def __init__(self):\n",
        "        super(Neural, self).__init__()\n",
        "        self.fc1 = nn.Linear(28*28, 32)  # Changed the number of output units to 32\n",
        "        self.fc2 = nn.Linear(32, 10)\n",
        "\n",
        "    def forward(self, x):\n",
        "        x = x.view(-1, 28*28)\n",
        "        x = torch.relu(self.fc1(x))\n",
        "        x = self.fc2(x)\n",
        "        return x\n",
        "\n",
        "net = Neural()\n"
      ],
      "metadata": {
        "id": "7eJT4B6Hq6ld"
      },
      "execution_count": 25,
      "outputs": []
    },
    {
      "cell_type": "code",
      "source": [
        "criterion=nn.CrossEntropyLoss()\n",
        "optimizer=optim.SGD(net.parameters(),lr=0.01,momentum=0.5)"
      ],
      "metadata": {
        "id": "PjuNwRxV1R8G"
      },
      "execution_count": 26,
      "outputs": []
    },
    {
      "cell_type": "code",
      "source": [
        "num_epochs=10\n",
        "for epoch in range(num_epochs):\n",
        "  for batch_idx,(data,target) in enumerate (train_loader):\n",
        "    optimizer.zero_grad()\n",
        "    output=net(data)\n",
        "    loss =criterion(output,target)\n",
        "    loss.backward()\n",
        "    optimizer.step()\n",
        "    if batch_idx % 100==0:\n",
        "      print('Train Epoch: {} [{}/{} ({:.0f}%)]\\tLoss: {:.6f}'.format(\n",
        "                epoch, batch_idx * len(data), len(train_loader.dataset),\n",
        "                100. * batch_idx / len(train_loader), loss.item()))\n"
      ],
      "metadata": {
        "colab": {
          "base_uri": "https://localhost:8080/"
        },
        "id": "z-gtb8Vc2d2E",
        "outputId": "f0efd720-8e0c-408c-b25e-9531ad9d601f"
      },
      "execution_count": 27,
      "outputs": [
        {
          "output_type": "stream",
          "name": "stdout",
          "text": [
            "Train Epoch: 0 [0/60000 (0%)]\tLoss: 2.275762\n",
            "Train Epoch: 0 [6400/60000 (11%)]\tLoss: 0.497545\n",
            "Train Epoch: 0 [12800/60000 (21%)]\tLoss: 0.568945\n",
            "Train Epoch: 0 [19200/60000 (32%)]\tLoss: 0.528519\n",
            "Train Epoch: 0 [25600/60000 (43%)]\tLoss: 0.366648\n",
            "Train Epoch: 0 [32000/60000 (53%)]\tLoss: 0.223400\n",
            "Train Epoch: 0 [38400/60000 (64%)]\tLoss: 0.314481\n",
            "Train Epoch: 0 [44800/60000 (75%)]\tLoss: 0.348873\n",
            "Train Epoch: 0 [51200/60000 (85%)]\tLoss: 0.279379\n",
            "Train Epoch: 0 [57600/60000 (96%)]\tLoss: 0.358653\n",
            "Train Epoch: 1 [0/60000 (0%)]\tLoss: 0.367876\n",
            "Train Epoch: 1 [6400/60000 (11%)]\tLoss: 0.288469\n",
            "Train Epoch: 1 [12800/60000 (21%)]\tLoss: 0.235901\n",
            "Train Epoch: 1 [19200/60000 (32%)]\tLoss: 0.275580\n",
            "Train Epoch: 1 [25600/60000 (43%)]\tLoss: 0.346676\n",
            "Train Epoch: 1 [32000/60000 (53%)]\tLoss: 0.185844\n",
            "Train Epoch: 1 [38400/60000 (64%)]\tLoss: 0.224114\n",
            "Train Epoch: 1 [44800/60000 (75%)]\tLoss: 0.447442\n",
            "Train Epoch: 1 [51200/60000 (85%)]\tLoss: 0.235242\n",
            "Train Epoch: 1 [57600/60000 (96%)]\tLoss: 0.351876\n",
            "Train Epoch: 2 [0/60000 (0%)]\tLoss: 0.313844\n",
            "Train Epoch: 2 [6400/60000 (11%)]\tLoss: 0.243242\n",
            "Train Epoch: 2 [12800/60000 (21%)]\tLoss: 0.352378\n",
            "Train Epoch: 2 [19200/60000 (32%)]\tLoss: 0.367917\n",
            "Train Epoch: 2 [25600/60000 (43%)]\tLoss: 0.104702\n",
            "Train Epoch: 2 [32000/60000 (53%)]\tLoss: 0.185502\n",
            "Train Epoch: 2 [38400/60000 (64%)]\tLoss: 0.169292\n",
            "Train Epoch: 2 [44800/60000 (75%)]\tLoss: 0.240829\n",
            "Train Epoch: 2 [51200/60000 (85%)]\tLoss: 0.209273\n",
            "Train Epoch: 2 [57600/60000 (96%)]\tLoss: 0.111251\n",
            "Train Epoch: 3 [0/60000 (0%)]\tLoss: 0.125476\n",
            "Train Epoch: 3 [6400/60000 (11%)]\tLoss: 0.146120\n",
            "Train Epoch: 3 [12800/60000 (21%)]\tLoss: 0.255571\n",
            "Train Epoch: 3 [19200/60000 (32%)]\tLoss: 0.199939\n",
            "Train Epoch: 3 [25600/60000 (43%)]\tLoss: 0.049317\n",
            "Train Epoch: 3 [32000/60000 (53%)]\tLoss: 0.100157\n",
            "Train Epoch: 3 [38400/60000 (64%)]\tLoss: 0.317711\n",
            "Train Epoch: 3 [44800/60000 (75%)]\tLoss: 0.092034\n",
            "Train Epoch: 3 [51200/60000 (85%)]\tLoss: 0.416044\n",
            "Train Epoch: 3 [57600/60000 (96%)]\tLoss: 0.256444\n",
            "Train Epoch: 4 [0/60000 (0%)]\tLoss: 0.171863\n",
            "Train Epoch: 4 [6400/60000 (11%)]\tLoss: 0.248908\n",
            "Train Epoch: 4 [12800/60000 (21%)]\tLoss: 0.142733\n",
            "Train Epoch: 4 [19200/60000 (32%)]\tLoss: 0.249286\n",
            "Train Epoch: 4 [25600/60000 (43%)]\tLoss: 0.267331\n",
            "Train Epoch: 4 [32000/60000 (53%)]\tLoss: 0.109199\n",
            "Train Epoch: 4 [38400/60000 (64%)]\tLoss: 0.327982\n",
            "Train Epoch: 4 [44800/60000 (75%)]\tLoss: 0.114426\n",
            "Train Epoch: 4 [51200/60000 (85%)]\tLoss: 0.089792\n",
            "Train Epoch: 4 [57600/60000 (96%)]\tLoss: 0.112513\n",
            "Train Epoch: 5 [0/60000 (0%)]\tLoss: 0.118594\n",
            "Train Epoch: 5 [6400/60000 (11%)]\tLoss: 0.119110\n",
            "Train Epoch: 5 [12800/60000 (21%)]\tLoss: 0.159279\n",
            "Train Epoch: 5 [19200/60000 (32%)]\tLoss: 0.050437\n",
            "Train Epoch: 5 [25600/60000 (43%)]\tLoss: 0.237943\n",
            "Train Epoch: 5 [32000/60000 (53%)]\tLoss: 0.119075\n",
            "Train Epoch: 5 [38400/60000 (64%)]\tLoss: 0.211013\n",
            "Train Epoch: 5 [44800/60000 (75%)]\tLoss: 0.111898\n",
            "Train Epoch: 5 [51200/60000 (85%)]\tLoss: 0.404987\n",
            "Train Epoch: 5 [57600/60000 (96%)]\tLoss: 0.281824\n",
            "Train Epoch: 6 [0/60000 (0%)]\tLoss: 0.386487\n",
            "Train Epoch: 6 [6400/60000 (11%)]\tLoss: 0.121621\n",
            "Train Epoch: 6 [12800/60000 (21%)]\tLoss: 0.111429\n",
            "Train Epoch: 6 [19200/60000 (32%)]\tLoss: 0.134952\n",
            "Train Epoch: 6 [25600/60000 (43%)]\tLoss: 0.161060\n",
            "Train Epoch: 6 [32000/60000 (53%)]\tLoss: 0.103883\n",
            "Train Epoch: 6 [38400/60000 (64%)]\tLoss: 0.109949\n",
            "Train Epoch: 6 [44800/60000 (75%)]\tLoss: 0.124082\n",
            "Train Epoch: 6 [51200/60000 (85%)]\tLoss: 0.142047\n",
            "Train Epoch: 6 [57600/60000 (96%)]\tLoss: 0.120504\n",
            "Train Epoch: 7 [0/60000 (0%)]\tLoss: 0.052016\n",
            "Train Epoch: 7 [6400/60000 (11%)]\tLoss: 0.245419\n",
            "Train Epoch: 7 [12800/60000 (21%)]\tLoss: 0.263699\n",
            "Train Epoch: 7 [19200/60000 (32%)]\tLoss: 0.179852\n",
            "Train Epoch: 7 [25600/60000 (43%)]\tLoss: 0.079667\n",
            "Train Epoch: 7 [32000/60000 (53%)]\tLoss: 0.152503\n",
            "Train Epoch: 7 [38400/60000 (64%)]\tLoss: 0.048732\n",
            "Train Epoch: 7 [44800/60000 (75%)]\tLoss: 0.268879\n",
            "Train Epoch: 7 [51200/60000 (85%)]\tLoss: 0.102572\n",
            "Train Epoch: 7 [57600/60000 (96%)]\tLoss: 0.182245\n",
            "Train Epoch: 8 [0/60000 (0%)]\tLoss: 0.038226\n",
            "Train Epoch: 8 [6400/60000 (11%)]\tLoss: 0.189922\n",
            "Train Epoch: 8 [12800/60000 (21%)]\tLoss: 0.047194\n",
            "Train Epoch: 8 [19200/60000 (32%)]\tLoss: 0.050497\n",
            "Train Epoch: 8 [25600/60000 (43%)]\tLoss: 0.177754\n",
            "Train Epoch: 8 [32000/60000 (53%)]\tLoss: 0.074970\n",
            "Train Epoch: 8 [38400/60000 (64%)]\tLoss: 0.105301\n",
            "Train Epoch: 8 [44800/60000 (75%)]\tLoss: 0.057429\n",
            "Train Epoch: 8 [51200/60000 (85%)]\tLoss: 0.182709\n",
            "Train Epoch: 8 [57600/60000 (96%)]\tLoss: 0.195878\n",
            "Train Epoch: 9 [0/60000 (0%)]\tLoss: 0.290042\n",
            "Train Epoch: 9 [6400/60000 (11%)]\tLoss: 0.061214\n",
            "Train Epoch: 9 [12800/60000 (21%)]\tLoss: 0.123221\n",
            "Train Epoch: 9 [19200/60000 (32%)]\tLoss: 0.033609\n",
            "Train Epoch: 9 [25600/60000 (43%)]\tLoss: 0.100450\n",
            "Train Epoch: 9 [32000/60000 (53%)]\tLoss: 0.203544\n",
            "Train Epoch: 9 [38400/60000 (64%)]\tLoss: 0.130633\n",
            "Train Epoch: 9 [44800/60000 (75%)]\tLoss: 0.052288\n",
            "Train Epoch: 9 [51200/60000 (85%)]\tLoss: 0.388198\n",
            "Train Epoch: 9 [57600/60000 (96%)]\tLoss: 0.083897\n"
          ]
        }
      ]
    },
    {
      "cell_type": "code",
      "source": [
        "test_dataset=datasets.MNIST('data',train=False,download=True,transform=transform)\n",
        "test_loader=torch.utils.data.DataLoader(test_dataset,batch_size=1000,shuffle=True)\n",
        "correct=0\n",
        "total=0\n",
        "with torch.no_grad():\n",
        "  output=net(data)\n",
        "  _,predicted=torch.max(output.data,1)\n",
        "  total+=target.size(0)\n",
        "  correct+=(predicted==target).sum().item()"
      ],
      "metadata": {
        "id": "Kl6OhAm02gch"
      },
      "execution_count": 28,
      "outputs": []
    },
    {
      "cell_type": "code",
      "source": [
        "print('Accuracy of the network on the 10000 test images: %d %%' % (\n",
        "    100 * correct / total))"
      ],
      "metadata": {
        "colab": {
          "base_uri": "https://localhost:8080/"
        },
        "id": "nkGKBESD2npe",
        "outputId": "88b53ecd-07f2-48d4-f82e-f80067176511"
      },
      "execution_count": 29,
      "outputs": [
        {
          "output_type": "stream",
          "name": "stdout",
          "text": [
            "Accuracy of the network on the 10000 test images: 100 %\n"
          ]
        }
      ]
    },
    {
      "cell_type": "code",
      "source": [],
      "metadata": {
        "id": "NXhE1Wjv2rtN"
      },
      "execution_count": 29,
      "outputs": []
    }
  ]
}