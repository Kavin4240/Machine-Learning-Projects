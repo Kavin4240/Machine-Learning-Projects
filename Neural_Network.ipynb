{
  "nbformat": 4,
  "nbformat_minor": 0,
  "metadata": {
    "colab": {
      "provenance": [],
      "include_colab_link": true
    },
    "kernelspec": {
      "name": "python3",
      "display_name": "Python 3"
    },
    "language_info": {
      "name": "python"
    }
  },
  "cells": [
    {
      "cell_type": "markdown",
      "metadata": {
        "id": "view-in-github",
        "colab_type": "text"
      },
      "source": [
        "<a href=\"https://colab.research.google.com/github/Kavin4240/Machine-Learning-Projects/blob/main/Neural_Network.ipynb\" target=\"_parent\"><img src=\"https://colab.research.google.com/assets/colab-badge.svg\" alt=\"Open In Colab\"/></a>"
      ]
    },
    {
      "cell_type": "code",
      "execution_count": null,
      "metadata": {
        "id": "AY6nyQnuSIlk"
      },
      "outputs": [],
      "source": [
        "import numpy as np"
      ]
    },
    {
      "cell_type": "code",
      "source": [
        "x=np.array([[1,0,1,0],[1,0,1,1],[0,1,0,1]])\n",
        "x"
      ],
      "metadata": {
        "colab": {
          "base_uri": "https://localhost:8080/"
        },
        "id": "-M_KB9_cSzuP",
        "outputId": "32caf6dc-dacf-484a-8173-76874d6a6270"
      },
      "execution_count": null,
      "outputs": [
        {
          "output_type": "execute_result",
          "data": {
            "text/plain": [
              "array([[1, 0, 1, 0],\n",
              "       [1, 0, 1, 1],\n",
              "       [0, 1, 0, 1]])"
            ]
          },
          "metadata": {},
          "execution_count": 25
        }
      ]
    },
    {
      "cell_type": "code",
      "source": [
        "y=np.array([[1],[0],[1]])\n",
        "y"
      ],
      "metadata": {
        "colab": {
          "base_uri": "https://localhost:8080/"
        },
        "id": "IZXKKojGTBDa",
        "outputId": "f920c811-72f1-40a7-820d-088b9fcff6a7"
      },
      "execution_count": null,
      "outputs": [
        {
          "output_type": "execute_result",
          "data": {
            "text/plain": [
              "array([[1],\n",
              "       [0],\n",
              "       [1]])"
            ]
          },
          "metadata": {},
          "execution_count": 26
        }
      ]
    },
    {
      "cell_type": "code",
      "source": [
        "def sigmoid(x):\n",
        "  return 1/(1+np.exp(-x))"
      ],
      "metadata": {
        "id": "0IqGkg8gTXdg"
      },
      "execution_count": null,
      "outputs": []
    },
    {
      "cell_type": "code",
      "source": [
        "def derivative_sigmoid(x):\n",
        "  return x*(1-x)"
      ],
      "metadata": {
        "id": "LqMLhrj-Tq7a"
      },
      "execution_count": null,
      "outputs": []
    },
    {
      "cell_type": "code",
      "source": [
        "epoch=5000\n",
        "lr=0.1\n",
        "input_neurons=x.shape[1]\n",
        "hidden_neurons=3\n",
        "output_neurons=1"
      ],
      "metadata": {
        "id": "2s-eK4jjT9yR"
      },
      "execution_count": null,
      "outputs": []
    },
    {
      "cell_type": "code",
      "source": [
        "wh=np.random.uniform(size=(input_neurons,hidden_neurons))\n",
        "bh=np.random.uniform(size=(1,hidden_neurons))\n",
        "wo=np.random.uniform(size=(hidden_neurons,output_neurons))\n",
        "bo=np.random.uniform(size=(1,output_neurons))"
      ],
      "metadata": {
        "id": "nHrkzIl3Uhvl"
      },
      "execution_count": null,
      "outputs": []
    },
    {
      "cell_type": "code",
      "source": [
        "for i in range(epoch):\n",
        "  #forward\n",
        "  hidden_input=np.dot(x,wh)\n",
        "  hidden_input=hidden_input+bh\n",
        "  hidden_activation=sigmoid(hidden_input)\n",
        "  output_layer=np.dot(hidden_activation,wo)\n",
        "  output=sigmoid(output_layer)\n",
        "  #backward\n",
        "  E=y-output\n",
        "  slope_output=derivative_sigmoid(output)\n",
        "  slope_hidden=derivative_sigmoid(hidden_activation)\n",
        "  d_output=E*slope_output\n",
        "  error_hidden=d_output.dot(wo.T)\n",
        "  d_hidden=error_hidden*slope_hidden\n",
        "  wo+=hidden_activation.T.dot(d_output)*lr\n",
        "  bo+=np.sum(d_output,axis=0,keepdims=True)*lr\n",
        "  wh+=x.T.dot(d_hidden)*lr\n",
        "  bh+=np.sum(d_hidden,axis=0,keepdims=True)*lr"
      ],
      "metadata": {
        "id": "6Hn3cxl3VL5Q"
      },
      "execution_count": null,
      "outputs": []
    },
    {
      "cell_type": "code",
      "source": [
        "output"
      ],
      "metadata": {
        "colab": {
          "base_uri": "https://localhost:8080/"
        },
        "id": "pGByv7NnZJxr",
        "outputId": "3e10198b-b88c-4c47-9bc7-dc86f39ccd5c"
      },
      "execution_count": null,
      "outputs": [
        {
          "output_type": "execute_result",
          "data": {
            "text/plain": [
              "array([[0.95580117],\n",
              "       [0.06524607],\n",
              "       [0.95878203]])"
            ]
          },
          "metadata": {},
          "execution_count": 32
        }
      ]
    },
    {
      "cell_type": "code",
      "source": [
        "import tensorflow as tf\n",
        "from sklearn.datasets import load_iris\n",
        "from sklearn.model_selection import train_test_split\n",
        "from sklearn.preprocessing import StandardScaler\n",
        "\n",
        "# Load Iris dataset\n",
        "iris = load_iris()\n",
        "X, y = iris.data, iris.target\n",
        "\n",
        "# Standardize features\n",
        "scaler = StandardScaler()\n",
        "X = scaler.fit_transform(X)\n",
        "\n",
        "# One-hot encode labels\n",
        "y_one_hot = tf.keras.utils.to_categorical(y, num_classes=3)\n",
        "\n",
        "# Split the dataset into training and testing sets\n",
        "X_train, X_test, y_train, y_test = train_test_split(X, y_one_hot, test_size=0.2, random_state=42)\n",
        "\n",
        "# Define the neural network architecture using Functional API\n",
        "inputs = tf.keras.Input(shape=(4,))\n",
        "hidden_layer = tf.keras.layers.Dense(16, activation='relu')(inputs)\n",
        "hidden_layer = tf.keras.layers.Dropout(0.2)(hidden_layer)  # Adding Dropout for regularization\n",
        "output_layer = tf.keras.layers.Dense(3, activation='softmax')(hidden_layer)\n",
        "\n",
        "# Create the model\n",
        "model = tf.keras.Model(inputs=inputs, outputs=output_layer)\n",
        "\n",
        "# Compile the model\n",
        "model.compile(optimizer='adam', loss='categorical_crossentropy', metrics=['accuracy'])\n",
        "\n",
        "# Train the model\n",
        "model.fit(X_train, y_train, epochs=100, batch_size=32, validation_split=0.1)\n",
        "\n",
        "# Evaluate the model on the test set\n",
        "loss, accuracy = model.evaluate(X_test, y_test)\n",
        "print(f'Test Loss: {loss}, Test Accuracy: {accuracy}')\n"
      ],
      "metadata": {
        "colab": {
          "base_uri": "https://localhost:8080/"
        },
        "id": "gf0KdEG9a8aX",
        "outputId": "5ed590fc-e673-401e-a2e2-1c625123e298"
      },
      "execution_count": null,
      "outputs": [
        {
          "output_type": "stream",
          "name": "stdout",
          "text": [
            "Epoch 1/100\n",
            "4/4 [==============================] - 2s 273ms/step - loss: 1.7261 - accuracy: 0.4167 - val_loss: 1.2872 - val_accuracy: 0.6667\n",
            "Epoch 2/100\n",
            "4/4 [==============================] - 0s 37ms/step - loss: 1.6527 - accuracy: 0.3426 - val_loss: 1.2684 - val_accuracy: 0.6667\n",
            "Epoch 3/100\n",
            "4/4 [==============================] - 0s 47ms/step - loss: 1.6422 - accuracy: 0.3148 - val_loss: 1.2492 - val_accuracy: 0.7500\n",
            "Epoch 4/100\n",
            "4/4 [==============================] - 0s 56ms/step - loss: 1.6403 - accuracy: 0.3426 - val_loss: 1.2300 - val_accuracy: 0.7500\n",
            "Epoch 5/100\n",
            "4/4 [==============================] - 0s 63ms/step - loss: 1.5870 - accuracy: 0.4074 - val_loss: 1.2113 - val_accuracy: 0.6667\n",
            "Epoch 6/100\n",
            "4/4 [==============================] - 0s 96ms/step - loss: 1.5570 - accuracy: 0.4537 - val_loss: 1.1926 - val_accuracy: 0.6667\n",
            "Epoch 7/100\n",
            "4/4 [==============================] - 0s 65ms/step - loss: 1.4727 - accuracy: 0.3981 - val_loss: 1.1745 - val_accuracy: 0.5833\n",
            "Epoch 8/100\n",
            "4/4 [==============================] - 0s 57ms/step - loss: 1.4618 - accuracy: 0.4444 - val_loss: 1.1563 - val_accuracy: 0.5833\n",
            "Epoch 9/100\n",
            "4/4 [==============================] - 0s 52ms/step - loss: 1.4106 - accuracy: 0.3519 - val_loss: 1.1379 - val_accuracy: 0.6667\n",
            "Epoch 10/100\n",
            "4/4 [==============================] - 0s 47ms/step - loss: 1.3837 - accuracy: 0.4444 - val_loss: 1.1196 - val_accuracy: 0.6667\n",
            "Epoch 11/100\n",
            "4/4 [==============================] - 0s 58ms/step - loss: 1.3443 - accuracy: 0.4630 - val_loss: 1.1018 - val_accuracy: 0.6667\n",
            "Epoch 12/100\n",
            "4/4 [==============================] - 0s 59ms/step - loss: 1.3067 - accuracy: 0.4352 - val_loss: 1.0845 - val_accuracy: 0.6667\n",
            "Epoch 13/100\n",
            "4/4 [==============================] - 0s 36ms/step - loss: 1.2566 - accuracy: 0.4167 - val_loss: 1.0677 - val_accuracy: 0.6667\n",
            "Epoch 14/100\n",
            "4/4 [==============================] - 0s 57ms/step - loss: 1.2546 - accuracy: 0.3704 - val_loss: 1.0507 - val_accuracy: 0.6667\n",
            "Epoch 15/100\n",
            "4/4 [==============================] - 0s 82ms/step - loss: 1.2422 - accuracy: 0.4167 - val_loss: 1.0341 - val_accuracy: 0.6667\n",
            "Epoch 16/100\n",
            "4/4 [==============================] - 0s 34ms/step - loss: 1.1382 - accuracy: 0.4352 - val_loss: 1.0175 - val_accuracy: 0.6667\n",
            "Epoch 17/100\n",
            "4/4 [==============================] - 0s 28ms/step - loss: 1.1481 - accuracy: 0.4815 - val_loss: 1.0010 - val_accuracy: 0.6667\n",
            "Epoch 18/100\n",
            "4/4 [==============================] - 0s 36ms/step - loss: 1.1421 - accuracy: 0.4352 - val_loss: 0.9846 - val_accuracy: 0.6667\n",
            "Epoch 19/100\n",
            "4/4 [==============================] - 0s 34ms/step - loss: 1.0695 - accuracy: 0.5185 - val_loss: 0.9682 - val_accuracy: 0.6667\n",
            "Epoch 20/100\n",
            "4/4 [==============================] - 0s 35ms/step - loss: 1.0764 - accuracy: 0.4815 - val_loss: 0.9524 - val_accuracy: 0.6667\n",
            "Epoch 21/100\n",
            "4/4 [==============================] - 0s 31ms/step - loss: 1.0233 - accuracy: 0.5278 - val_loss: 0.9368 - val_accuracy: 0.6667\n",
            "Epoch 22/100\n",
            "4/4 [==============================] - 0s 27ms/step - loss: 0.9990 - accuracy: 0.5093 - val_loss: 0.9217 - val_accuracy: 0.6667\n",
            "Epoch 23/100\n",
            "4/4 [==============================] - 0s 29ms/step - loss: 0.9918 - accuracy: 0.4630 - val_loss: 0.9066 - val_accuracy: 0.6667\n",
            "Epoch 24/100\n",
            "4/4 [==============================] - 0s 29ms/step - loss: 0.9272 - accuracy: 0.5741 - val_loss: 0.8922 - val_accuracy: 0.7500\n",
            "Epoch 25/100\n",
            "4/4 [==============================] - 0s 31ms/step - loss: 0.9208 - accuracy: 0.6019 - val_loss: 0.8779 - val_accuracy: 0.7500\n",
            "Epoch 26/100\n",
            "4/4 [==============================] - 0s 20ms/step - loss: 0.9100 - accuracy: 0.5833 - val_loss: 0.8639 - val_accuracy: 0.7500\n",
            "Epoch 27/100\n",
            "4/4 [==============================] - 0s 25ms/step - loss: 0.8702 - accuracy: 0.6111 - val_loss: 0.8502 - val_accuracy: 0.7500\n",
            "Epoch 28/100\n",
            "4/4 [==============================] - 0s 19ms/step - loss: 0.8646 - accuracy: 0.6204 - val_loss: 0.8366 - val_accuracy: 0.8333\n",
            "Epoch 29/100\n",
            "4/4 [==============================] - 0s 22ms/step - loss: 0.8474 - accuracy: 0.7315 - val_loss: 0.8233 - val_accuracy: 0.8333\n",
            "Epoch 30/100\n",
            "4/4 [==============================] - 0s 22ms/step - loss: 0.8134 - accuracy: 0.7500 - val_loss: 0.8105 - val_accuracy: 0.8333\n",
            "Epoch 31/100\n",
            "4/4 [==============================] - 0s 18ms/step - loss: 0.7768 - accuracy: 0.7222 - val_loss: 0.7981 - val_accuracy: 0.8333\n",
            "Epoch 32/100\n",
            "4/4 [==============================] - 0s 25ms/step - loss: 0.7986 - accuracy: 0.7315 - val_loss: 0.7863 - val_accuracy: 0.8333\n",
            "Epoch 33/100\n",
            "4/4 [==============================] - 0s 17ms/step - loss: 0.7566 - accuracy: 0.7778 - val_loss: 0.7750 - val_accuracy: 0.8333\n",
            "Epoch 34/100\n",
            "4/4 [==============================] - 0s 16ms/step - loss: 0.7593 - accuracy: 0.7130 - val_loss: 0.7641 - val_accuracy: 0.8333\n",
            "Epoch 35/100\n",
            "4/4 [==============================] - 0s 16ms/step - loss: 0.7209 - accuracy: 0.8148 - val_loss: 0.7532 - val_accuracy: 0.8333\n",
            "Epoch 36/100\n",
            "4/4 [==============================] - 0s 17ms/step - loss: 0.6891 - accuracy: 0.7963 - val_loss: 0.7433 - val_accuracy: 0.8333\n",
            "Epoch 37/100\n",
            "4/4 [==============================] - 0s 17ms/step - loss: 0.6910 - accuracy: 0.8056 - val_loss: 0.7335 - val_accuracy: 0.8333\n",
            "Epoch 38/100\n",
            "4/4 [==============================] - 0s 22ms/step - loss: 0.6423 - accuracy: 0.8056 - val_loss: 0.7241 - val_accuracy: 0.8333\n",
            "Epoch 39/100\n",
            "4/4 [==============================] - 0s 22ms/step - loss: 0.6995 - accuracy: 0.7778 - val_loss: 0.7151 - val_accuracy: 0.8333\n",
            "Epoch 40/100\n",
            "4/4 [==============================] - 0s 17ms/step - loss: 0.6656 - accuracy: 0.7500 - val_loss: 0.7068 - val_accuracy: 0.8333\n",
            "Epoch 41/100\n",
            "4/4 [==============================] - 0s 21ms/step - loss: 0.6312 - accuracy: 0.7870 - val_loss: 0.6987 - val_accuracy: 0.8333\n",
            "Epoch 42/100\n",
            "4/4 [==============================] - 0s 17ms/step - loss: 0.6266 - accuracy: 0.8056 - val_loss: 0.6907 - val_accuracy: 0.8333\n",
            "Epoch 43/100\n",
            "4/4 [==============================] - 0s 16ms/step - loss: 0.6195 - accuracy: 0.8148 - val_loss: 0.6828 - val_accuracy: 0.8333\n",
            "Epoch 44/100\n",
            "4/4 [==============================] - 0s 17ms/step - loss: 0.6181 - accuracy: 0.8056 - val_loss: 0.6754 - val_accuracy: 0.8333\n",
            "Epoch 45/100\n",
            "4/4 [==============================] - 0s 21ms/step - loss: 0.5901 - accuracy: 0.7870 - val_loss: 0.6682 - val_accuracy: 0.8333\n",
            "Epoch 46/100\n",
            "4/4 [==============================] - 0s 21ms/step - loss: 0.5999 - accuracy: 0.8241 - val_loss: 0.6613 - val_accuracy: 0.8333\n",
            "Epoch 47/100\n",
            "4/4 [==============================] - 0s 22ms/step - loss: 0.5740 - accuracy: 0.8241 - val_loss: 0.6546 - val_accuracy: 0.8333\n",
            "Epoch 48/100\n",
            "4/4 [==============================] - 0s 17ms/step - loss: 0.5673 - accuracy: 0.8333 - val_loss: 0.6482 - val_accuracy: 0.8333\n",
            "Epoch 49/100\n",
            "4/4 [==============================] - 0s 17ms/step - loss: 0.5706 - accuracy: 0.7870 - val_loss: 0.6419 - val_accuracy: 0.8333\n",
            "Epoch 50/100\n",
            "4/4 [==============================] - 0s 16ms/step - loss: 0.5399 - accuracy: 0.7870 - val_loss: 0.6357 - val_accuracy: 0.8333\n",
            "Epoch 51/100\n",
            "4/4 [==============================] - 0s 23ms/step - loss: 0.5416 - accuracy: 0.8056 - val_loss: 0.6300 - val_accuracy: 0.8333\n",
            "Epoch 52/100\n",
            "4/4 [==============================] - 0s 17ms/step - loss: 0.5503 - accuracy: 0.7870 - val_loss: 0.6246 - val_accuracy: 0.8333\n",
            "Epoch 53/100\n",
            "4/4 [==============================] - 0s 23ms/step - loss: 0.5342 - accuracy: 0.7963 - val_loss: 0.6194 - val_accuracy: 0.8333\n",
            "Epoch 54/100\n",
            "4/4 [==============================] - 0s 21ms/step - loss: 0.5136 - accuracy: 0.7963 - val_loss: 0.6143 - val_accuracy: 0.8333\n",
            "Epoch 55/100\n",
            "4/4 [==============================] - 0s 16ms/step - loss: 0.5047 - accuracy: 0.8333 - val_loss: 0.6095 - val_accuracy: 0.8333\n",
            "Epoch 56/100\n",
            "4/4 [==============================] - 0s 16ms/step - loss: 0.5100 - accuracy: 0.8056 - val_loss: 0.6047 - val_accuracy: 0.8333\n",
            "Epoch 57/100\n",
            "4/4 [==============================] - 0s 18ms/step - loss: 0.5155 - accuracy: 0.8611 - val_loss: 0.6002 - val_accuracy: 0.8333\n",
            "Epoch 58/100\n",
            "4/4 [==============================] - 0s 23ms/step - loss: 0.4904 - accuracy: 0.8148 - val_loss: 0.5959 - val_accuracy: 0.8333\n",
            "Epoch 59/100\n",
            "4/4 [==============================] - 0s 27ms/step - loss: 0.5067 - accuracy: 0.8056 - val_loss: 0.5919 - val_accuracy: 0.8333\n",
            "Epoch 60/100\n",
            "4/4 [==============================] - 0s 24ms/step - loss: 0.4874 - accuracy: 0.8148 - val_loss: 0.5877 - val_accuracy: 0.8333\n",
            "Epoch 61/100\n",
            "4/4 [==============================] - 0s 16ms/step - loss: 0.4821 - accuracy: 0.8056 - val_loss: 0.5837 - val_accuracy: 0.8333\n",
            "Epoch 62/100\n",
            "4/4 [==============================] - 0s 18ms/step - loss: 0.4774 - accuracy: 0.8426 - val_loss: 0.5797 - val_accuracy: 0.8333\n",
            "Epoch 63/100\n",
            "4/4 [==============================] - 0s 23ms/step - loss: 0.5036 - accuracy: 0.7778 - val_loss: 0.5758 - val_accuracy: 0.8333\n",
            "Epoch 64/100\n",
            "4/4 [==============================] - 0s 17ms/step - loss: 0.4529 - accuracy: 0.8333 - val_loss: 0.5720 - val_accuracy: 0.8333\n",
            "Epoch 65/100\n",
            "4/4 [==============================] - 0s 20ms/step - loss: 0.4675 - accuracy: 0.8056 - val_loss: 0.5681 - val_accuracy: 0.8333\n",
            "Epoch 66/100\n",
            "4/4 [==============================] - 0s 21ms/step - loss: 0.4531 - accuracy: 0.8333 - val_loss: 0.5645 - val_accuracy: 0.8333\n",
            "Epoch 67/100\n",
            "4/4 [==============================] - 0s 16ms/step - loss: 0.4821 - accuracy: 0.7870 - val_loss: 0.5612 - val_accuracy: 0.8333\n",
            "Epoch 68/100\n",
            "4/4 [==============================] - 0s 21ms/step - loss: 0.4591 - accuracy: 0.8056 - val_loss: 0.5580 - val_accuracy: 0.8333\n",
            "Epoch 69/100\n",
            "4/4 [==============================] - 0s 15ms/step - loss: 0.4458 - accuracy: 0.8333 - val_loss: 0.5548 - val_accuracy: 0.8333\n",
            "Epoch 70/100\n",
            "4/4 [==============================] - 0s 14ms/step - loss: 0.4448 - accuracy: 0.8148 - val_loss: 0.5514 - val_accuracy: 0.8333\n",
            "Epoch 71/100\n",
            "4/4 [==============================] - 0s 14ms/step - loss: 0.4597 - accuracy: 0.7963 - val_loss: 0.5480 - val_accuracy: 0.8333\n",
            "Epoch 72/100\n",
            "4/4 [==============================] - 0s 20ms/step - loss: 0.4828 - accuracy: 0.7870 - val_loss: 0.5447 - val_accuracy: 0.8333\n",
            "Epoch 73/100\n",
            "4/4 [==============================] - 0s 19ms/step - loss: 0.4566 - accuracy: 0.8148 - val_loss: 0.5415 - val_accuracy: 0.8333\n",
            "Epoch 74/100\n",
            "4/4 [==============================] - 0s 14ms/step - loss: 0.4436 - accuracy: 0.8241 - val_loss: 0.5386 - val_accuracy: 0.8333\n",
            "Epoch 75/100\n",
            "4/4 [==============================] - 0s 15ms/step - loss: 0.4455 - accuracy: 0.8056 - val_loss: 0.5357 - val_accuracy: 0.8333\n",
            "Epoch 76/100\n",
            "4/4 [==============================] - 0s 16ms/step - loss: 0.4201 - accuracy: 0.8333 - val_loss: 0.5330 - val_accuracy: 0.8333\n",
            "Epoch 77/100\n",
            "4/4 [==============================] - 0s 18ms/step - loss: 0.4299 - accuracy: 0.7870 - val_loss: 0.5305 - val_accuracy: 0.8333\n",
            "Epoch 78/100\n",
            "4/4 [==============================] - 0s 20ms/step - loss: 0.4191 - accuracy: 0.8426 - val_loss: 0.5277 - val_accuracy: 0.8333\n",
            "Epoch 79/100\n",
            "4/4 [==============================] - 0s 17ms/step - loss: 0.4278 - accuracy: 0.8148 - val_loss: 0.5252 - val_accuracy: 0.8333\n",
            "Epoch 80/100\n",
            "4/4 [==============================] - 0s 16ms/step - loss: 0.4445 - accuracy: 0.8333 - val_loss: 0.5226 - val_accuracy: 0.8333\n",
            "Epoch 81/100\n",
            "4/4 [==============================] - 0s 17ms/step - loss: 0.4164 - accuracy: 0.8426 - val_loss: 0.5202 - val_accuracy: 0.8333\n",
            "Epoch 82/100\n",
            "4/4 [==============================] - 0s 20ms/step - loss: 0.4076 - accuracy: 0.8241 - val_loss: 0.5174 - val_accuracy: 0.8333\n",
            "Epoch 83/100\n",
            "4/4 [==============================] - 0s 23ms/step - loss: 0.4234 - accuracy: 0.8241 - val_loss: 0.5147 - val_accuracy: 0.8333\n",
            "Epoch 84/100\n",
            "4/4 [==============================] - 0s 22ms/step - loss: 0.4225 - accuracy: 0.8426 - val_loss: 0.5122 - val_accuracy: 0.8333\n",
            "Epoch 85/100\n",
            "4/4 [==============================] - 0s 16ms/step - loss: 0.4289 - accuracy: 0.8333 - val_loss: 0.5097 - val_accuracy: 0.8333\n",
            "Epoch 86/100\n",
            "4/4 [==============================] - 0s 21ms/step - loss: 0.3684 - accuracy: 0.8519 - val_loss: 0.5074 - val_accuracy: 0.8333\n",
            "Epoch 87/100\n",
            "4/4 [==============================] - 0s 17ms/step - loss: 0.3882 - accuracy: 0.8333 - val_loss: 0.5052 - val_accuracy: 0.8333\n",
            "Epoch 88/100\n",
            "4/4 [==============================] - 0s 24ms/step - loss: 0.3897 - accuracy: 0.8519 - val_loss: 0.5030 - val_accuracy: 0.8333\n",
            "Epoch 89/100\n",
            "4/4 [==============================] - 0s 23ms/step - loss: 0.4039 - accuracy: 0.7870 - val_loss: 0.5009 - val_accuracy: 0.8333\n",
            "Epoch 90/100\n",
            "4/4 [==============================] - 0s 17ms/step - loss: 0.4183 - accuracy: 0.8333 - val_loss: 0.4988 - val_accuracy: 0.8333\n",
            "Epoch 91/100\n",
            "4/4 [==============================] - 0s 27ms/step - loss: 0.3777 - accuracy: 0.8519 - val_loss: 0.4967 - val_accuracy: 0.8333\n",
            "Epoch 92/100\n",
            "4/4 [==============================] - 0s 23ms/step - loss: 0.3819 - accuracy: 0.8241 - val_loss: 0.4945 - val_accuracy: 0.8333\n",
            "Epoch 93/100\n",
            "4/4 [==============================] - 0s 15ms/step - loss: 0.3824 - accuracy: 0.8241 - val_loss: 0.4925 - val_accuracy: 0.8333\n",
            "Epoch 94/100\n",
            "4/4 [==============================] - 0s 22ms/step - loss: 0.3961 - accuracy: 0.8241 - val_loss: 0.4905 - val_accuracy: 0.8333\n",
            "Epoch 95/100\n",
            "4/4 [==============================] - 0s 15ms/step - loss: 0.3899 - accuracy: 0.8333 - val_loss: 0.4882 - val_accuracy: 0.8333\n",
            "Epoch 96/100\n",
            "4/4 [==============================] - 0s 15ms/step - loss: 0.3836 - accuracy: 0.8426 - val_loss: 0.4860 - val_accuracy: 0.8333\n",
            "Epoch 97/100\n",
            "4/4 [==============================] - 0s 21ms/step - loss: 0.3583 - accuracy: 0.8426 - val_loss: 0.4840 - val_accuracy: 0.8333\n",
            "Epoch 98/100\n",
            "4/4 [==============================] - 0s 22ms/step - loss: 0.4284 - accuracy: 0.7963 - val_loss: 0.4821 - val_accuracy: 0.8333\n",
            "Epoch 99/100\n",
            "4/4 [==============================] - 0s 25ms/step - loss: 0.3839 - accuracy: 0.8241 - val_loss: 0.4805 - val_accuracy: 0.8333\n",
            "Epoch 100/100\n",
            "4/4 [==============================] - 0s 16ms/step - loss: 0.3894 - accuracy: 0.7963 - val_loss: 0.4790 - val_accuracy: 0.8333\n",
            "1/1 [==============================] - 0s 131ms/step - loss: 0.2949 - accuracy: 0.9000\n",
            "Test Loss: 0.2948870062828064, Test Accuracy: 0.8999999761581421\n"
          ]
        }
      ]
    },
    {
      "cell_type": "markdown",
      "source": [],
      "metadata": {
        "id": "LRvDwxQAp1Hc"
      }
    },
    {
      "cell_type": "code",
      "source": [
        "import tensorflow as tf\n",
        "print(\"TensorFlow version:\", tf.__version__)"
      ],
      "metadata": {
        "colab": {
          "base_uri": "https://localhost:8080/"
        },
        "id": "Ghlv4cQjfT_I",
        "outputId": "c612ca77-0bb4-4273-88a7-fcd69224e94a"
      },
      "execution_count": null,
      "outputs": [
        {
          "output_type": "stream",
          "name": "stdout",
          "text": [
            "TensorFlow version: 2.15.0\n"
          ]
        }
      ]
    },
    {
      "cell_type": "code",
      "source": [
        "mnist = tf.keras.datasets.mnist\n",
        "\n",
        "(x_train, y_train), (x_test, y_test) = mnist.load_data()\n",
        "x_train, x_test = x_train / 255.0, x_test / 255.0"
      ],
      "metadata": {
        "id": "Xw97eWmanQpy"
      },
      "execution_count": null,
      "outputs": []
    },
    {
      "cell_type": "code",
      "source": [
        "model = tf.keras.models.Sequential([\n",
        "  tf.keras.layers.Flatten(input_shape=(28, 28)),\n",
        "  tf.keras.layers.Dense(128, activation='relu'),\n",
        "  tf.keras.layers.Dropout(0.2),\n",
        "  tf.keras.layers.Dense(10)\n",
        "])"
      ],
      "metadata": {
        "id": "pBQPPlaRo3Of"
      },
      "execution_count": null,
      "outputs": []
    },
    {
      "cell_type": "code",
      "source": [
        "predictions=model(x_train[:1]).numpy()\n",
        "predictions"
      ],
      "metadata": {
        "colab": {
          "base_uri": "https://localhost:8080/"
        },
        "id": "x_I6_xqyo6aJ",
        "outputId": "e54700bd-1c57-48b4-88e2-aa376d2ecfd3"
      },
      "execution_count": null,
      "outputs": [
        {
          "output_type": "execute_result",
          "data": {
            "text/plain": [
              "array([[ 0.53404075,  0.13993526, -0.53419244,  0.5862552 , -0.6900904 ,\n",
              "        -0.6898056 , -0.39518967,  0.33252075,  0.16088426, -0.12008967]],\n",
              "      dtype=float32)"
            ]
          },
          "metadata": {},
          "execution_count": 37
        }
      ]
    },
    {
      "cell_type": "code",
      "source": [
        "loss_fn = tf.keras.losses.SparseCategoricalCrossentropy(from_logits=True)"
      ],
      "metadata": {
        "id": "Yh5UGDROo9Wz"
      },
      "execution_count": null,
      "outputs": []
    },
    {
      "cell_type": "code",
      "source": [
        "tf.nn.softmax(predictions).numpy()"
      ],
      "metadata": {
        "colab": {
          "base_uri": "https://localhost:8080/"
        },
        "id": "3xo71DAkpV7N",
        "outputId": "1e319acb-e05e-49fb-b533-9a2a9d9ec37d"
      },
      "execution_count": null,
      "outputs": [
        {
          "output_type": "execute_result",
          "data": {
            "text/plain": [
              "array([[0.16446272, 0.11089441, 0.05651188, 0.1732782 , 0.04835418,\n",
              "        0.04836795, 0.06493933, 0.13444617, 0.11324204, 0.08550318]],\n",
              "      dtype=float32)"
            ]
          },
          "metadata": {},
          "execution_count": 39
        }
      ]
    },
    {
      "cell_type": "code",
      "source": [
        "loss_fn = tf.keras.losses.SparseCategoricalCrossentropy(from_logits=True)"
      ],
      "metadata": {
        "id": "bUs1coz8pWUp"
      },
      "execution_count": null,
      "outputs": []
    },
    {
      "cell_type": "code",
      "source": [
        "loss_fn(y_train[:1], predictions).numpy()"
      ],
      "metadata": {
        "colab": {
          "base_uri": "https://localhost:8080/"
        },
        "id": "z02otrXdpaHb",
        "outputId": "ef8ce7f2-fa42-4a86-9bca-d328bf1b9c9e"
      },
      "execution_count": null,
      "outputs": [
        {
          "output_type": "execute_result",
          "data": {
            "text/plain": [
              "3.0289178"
            ]
          },
          "metadata": {},
          "execution_count": 41
        }
      ]
    },
    {
      "cell_type": "code",
      "source": [
        "model.compile(optimizer='adam',\n",
        "              loss=loss_fn,\n",
        "              metrics=['accuracy'])"
      ],
      "metadata": {
        "id": "PSf7n_lypcJy"
      },
      "execution_count": null,
      "outputs": []
    },
    {
      "cell_type": "code",
      "source": [
        "model.fit(x_train, y_train, epochs=5)"
      ],
      "metadata": {
        "colab": {
          "base_uri": "https://localhost:8080/"
        },
        "id": "1ZH0YMD_phvQ",
        "outputId": "9ac46688-4027-4c7b-a9d0-0fd3e60fbb5b"
      },
      "execution_count": null,
      "outputs": [
        {
          "output_type": "stream",
          "name": "stdout",
          "text": [
            "Epoch 1/5\n",
            "1875/1875 [==============================] - 13s 6ms/step - loss: 0.2904 - accuracy: 0.9157\n",
            "Epoch 2/5\n",
            "1875/1875 [==============================] - 12s 6ms/step - loss: 0.1404 - accuracy: 0.9590\n",
            "Epoch 3/5\n",
            "1875/1875 [==============================] - 12s 6ms/step - loss: 0.1045 - accuracy: 0.9685\n",
            "Epoch 4/5\n",
            "1875/1875 [==============================] - 10s 5ms/step - loss: 0.0867 - accuracy: 0.9735\n",
            "Epoch 5/5\n",
            "1875/1875 [==============================] - 11s 6ms/step - loss: 0.0727 - accuracy: 0.9773\n"
          ]
        },
        {
          "output_type": "execute_result",
          "data": {
            "text/plain": [
              "<keras.src.callbacks.History at 0x7e5aa55f7b20>"
            ]
          },
          "metadata": {},
          "execution_count": 43
        }
      ]
    },
    {
      "cell_type": "code",
      "source": [
        "model.evaluate(x_test,  y_test, verbose=2)"
      ],
      "metadata": {
        "colab": {
          "base_uri": "https://localhost:8080/"
        },
        "id": "uJBHIC4JpjXk",
        "outputId": "43d8b3df-dc30-4960-c1f0-e11f43e4378c"
      },
      "execution_count": null,
      "outputs": [
        {
          "output_type": "stream",
          "name": "stdout",
          "text": [
            "313/313 - 1s - loss: 0.0752 - accuracy: 0.9767 - 1s/epoch - 4ms/step\n"
          ]
        },
        {
          "output_type": "execute_result",
          "data": {
            "text/plain": [
              "[0.07522378861904144, 0.9767000079154968]"
            ]
          },
          "metadata": {},
          "execution_count": 44
        }
      ]
    },
    {
      "cell_type": "code",
      "source": [
        "probability_model = tf.keras.Sequential([\n",
        "  model,\n",
        "  tf.keras.layers.Softmax()\n",
        "])"
      ],
      "metadata": {
        "id": "EdRK9JG4pnVV"
      },
      "execution_count": null,
      "outputs": []
    },
    {
      "cell_type": "code",
      "source": [
        "probability_model(x_test[:5])"
      ],
      "metadata": {
        "colab": {
          "base_uri": "https://localhost:8080/"
        },
        "id": "ep8Mwxruprxq",
        "outputId": "04139ba8-e548-4d19-be19-3a7183c94851"
      },
      "execution_count": null,
      "outputs": [
        {
          "output_type": "execute_result",
          "data": {
            "text/plain": [
              "<tf.Tensor: shape=(5, 10), dtype=float32, numpy=\n",
              "array([[4.6134329e-07, 8.6157321e-09, 1.5519082e-07, 6.5162423e-04,\n",
              "        2.9755268e-11, 4.6633028e-07, 8.1250597e-11, 9.9933964e-01,\n",
              "        1.9609108e-07, 7.4320678e-06],\n",
              "       [3.6339326e-10, 3.0877094e-05, 9.9996483e-01, 2.8957961e-06,\n",
              "        5.4067929e-14, 1.2147972e-06, 1.4226629e-08, 7.8568575e-12,\n",
              "        1.6358884e-07, 3.5085270e-12],\n",
              "       [2.4906998e-07, 9.9899155e-01, 5.6115725e-05, 1.2512879e-06,\n",
              "        4.3311211e-05, 1.8387016e-05, 1.0023999e-05, 7.9175114e-04,\n",
              "        8.6794214e-05, 6.6517288e-07],\n",
              "       [9.9994397e-01, 3.7678491e-09, 3.9880499e-05, 1.3969435e-08,\n",
              "        1.3472182e-07, 9.4387218e-08, 9.2890750e-06, 1.8076017e-06,\n",
              "        2.3780436e-07, 4.6708578e-06],\n",
              "       [1.2127957e-05, 1.3239584e-09, 1.5631318e-05, 1.3513936e-08,\n",
              "        9.8091507e-01, 6.4835042e-08, 3.3575500e-06, 4.5526732e-04,\n",
              "        3.6117499e-06, 1.8594855e-02]], dtype=float32)>"
            ]
          },
          "metadata": {},
          "execution_count": 46
        }
      ]
    }
  ]
}